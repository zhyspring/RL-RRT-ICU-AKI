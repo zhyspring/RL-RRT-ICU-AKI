{
 "cells": [
  {
   "cell_type": "code",
   "execution_count": 16,
   "metadata": {},
   "outputs": [],
   "source": [
    "# 进行的是Data sampling & Profile\n",
    "# 有效样本数量、正负样本、轨迹长度分布、含有三种动作切换的样本数量，状态列的统计信息"
   ]
  },
  {
   "cell_type": "code",
   "execution_count": 40,
   "metadata": {},
   "outputs": [
    {
     "data": {
      "text/plain": [
       "3413"
      ]
     },
     "execution_count": 40,
     "metadata": {},
     "output_type": "execute_result"
    }
   ],
   "source": [
    "import pandas as pd\n",
    "\n",
    "df = pd.read_csv('./data/res.csv')\n",
    "state_col = ['ph',\n",
    " 'po2',\n",
    " 'calcium',\n",
    " 'bicarbonate',\n",
    " 'creatinine',\n",
    " 'sodium',\n",
    " 'potassium',\n",
    " 'uo_rt_24hr']\n",
    "col_list = ['reward'] + state_col\n",
    "df['stay_id'].nunique()"
   ]
  },
  {
   "cell_type": "code",
   "execution_count": 21,
   "metadata": {},
   "outputs": [
    {
     "data": {
      "text/plain": [
       "0         0\n",
       "1         1\n",
       "2         0\n",
       "3         1\n",
       "4         0\n",
       "         ..\n",
       "75153     8\n",
       "75154     9\n",
       "75155    10\n",
       "75156    11\n",
       "75157    12\n",
       "Name: step, Length: 75158, dtype: int64"
      ]
     },
     "execution_count": 21,
     "metadata": {},
     "output_type": "execute_result"
    }
   ],
   "source": [
    "# 对df按照stay_id分割样本\n",
    "# 首先筛选包含至少包含8条记录的样本\n",
    "# 根据样本step最大的reward列记录的正负，判断正负样本\n",
    "# 统计筛选后样本的行数记录分布\n",
    "# 进行col列的统计\n",
    "# 进行col列缺失率的统计\n",
    "\n",
    "# 筛选action列含有三个unique值的样本\n",
    "# 进行col列的统计\n",
    "# 进行col列缺失率的统计"
   ]
  },
  {
   "cell_type": "code",
   "execution_count": 36,
   "metadata": {},
   "outputs": [],
   "source": [
    "# 分组\n",
    "grouped = df.groupby('stay_id')\n",
    "# 筛选\n",
    "filtered_df = grouped.filter(lambda x: len(x) >= 8)"
   ]
  },
  {
   "cell_type": "code",
   "execution_count": 38,
   "metadata": {},
   "outputs": [],
   "source": [
    "dfdes = filtered_df.describe()\n",
    "dfdes.to_csv('./data/desc.csv')"
   ]
  },
  {
   "cell_type": "code",
   "execution_count": 25,
   "metadata": {},
   "outputs": [
    {
     "data": {
      "text/html": [
       "<div>\n",
       "<style scoped>\n",
       "    .dataframe tbody tr th:only-of-type {\n",
       "        vertical-align: middle;\n",
       "    }\n",
       "\n",
       "    .dataframe tbody tr th {\n",
       "        vertical-align: top;\n",
       "    }\n",
       "\n",
       "    .dataframe thead th {\n",
       "        text-align: right;\n",
       "    }\n",
       "</style>\n",
       "<table border=\"1\" class=\"dataframe\">\n",
       "  <thead>\n",
       "    <tr style=\"text-align: right;\">\n",
       "      <th></th>\n",
       "      <th>step</th>\n",
       "      <th>stay_id</th>\n",
       "      <th>step.1</th>\n",
       "      <th>ph</th>\n",
       "      <th>po2</th>\n",
       "      <th>calcium</th>\n",
       "      <th>bicarbonate</th>\n",
       "      <th>creatinine</th>\n",
       "      <th>sodium</th>\n",
       "      <th>potassium</th>\n",
       "      <th>uo_rt_24hr</th>\n",
       "      <th>action</th>\n",
       "      <th>reward</th>\n",
       "    </tr>\n",
       "  </thead>\n",
       "  <tbody>\n",
       "    <tr>\n",
       "      <th>4</th>\n",
       "      <td>0</td>\n",
       "      <td>30009597</td>\n",
       "      <td>0</td>\n",
       "      <td>7.35</td>\n",
       "      <td>30.0</td>\n",
       "      <td>0.97</td>\n",
       "      <td>22.0</td>\n",
       "      <td>4.825</td>\n",
       "      <td>138.0</td>\n",
       "      <td>3.975</td>\n",
       "      <td>0.3161</td>\n",
       "      <td>1</td>\n",
       "      <td>0.000000</td>\n",
       "    </tr>\n",
       "    <tr>\n",
       "      <th>5</th>\n",
       "      <td>1</td>\n",
       "      <td>30009597</td>\n",
       "      <td>1</td>\n",
       "      <td>7.35</td>\n",
       "      <td>30.0</td>\n",
       "      <td>0.97</td>\n",
       "      <td>23.0</td>\n",
       "      <td>4.350</td>\n",
       "      <td>138.0</td>\n",
       "      <td>3.950</td>\n",
       "      <td>0.3161</td>\n",
       "      <td>1</td>\n",
       "      <td>0.630903</td>\n",
       "    </tr>\n",
       "    <tr>\n",
       "      <th>6</th>\n",
       "      <td>2</td>\n",
       "      <td>30009597</td>\n",
       "      <td>2</td>\n",
       "      <td>7.35</td>\n",
       "      <td>30.0</td>\n",
       "      <td>0.97</td>\n",
       "      <td>24.0</td>\n",
       "      <td>3.875</td>\n",
       "      <td>138.0</td>\n",
       "      <td>3.925</td>\n",
       "      <td>0.3161</td>\n",
       "      <td>0</td>\n",
       "      <td>0.630903</td>\n",
       "    </tr>\n",
       "    <tr>\n",
       "      <th>7</th>\n",
       "      <td>3</td>\n",
       "      <td>30009597</td>\n",
       "      <td>3</td>\n",
       "      <td>7.35</td>\n",
       "      <td>30.0</td>\n",
       "      <td>0.97</td>\n",
       "      <td>25.0</td>\n",
       "      <td>3.400</td>\n",
       "      <td>138.0</td>\n",
       "      <td>3.900</td>\n",
       "      <td>0.3161</td>\n",
       "      <td>0</td>\n",
       "      <td>0.630903</td>\n",
       "    </tr>\n",
       "    <tr>\n",
       "      <th>8</th>\n",
       "      <td>4</td>\n",
       "      <td>30009597</td>\n",
       "      <td>4</td>\n",
       "      <td>7.35</td>\n",
       "      <td>30.0</td>\n",
       "      <td>0.97</td>\n",
       "      <td>24.5</td>\n",
       "      <td>3.675</td>\n",
       "      <td>138.0</td>\n",
       "      <td>3.950</td>\n",
       "      <td>0.3161</td>\n",
       "      <td>0</td>\n",
       "      <td>-0.502822</td>\n",
       "    </tr>\n",
       "    <tr>\n",
       "      <th>...</th>\n",
       "      <td>...</td>\n",
       "      <td>...</td>\n",
       "      <td>...</td>\n",
       "      <td>...</td>\n",
       "      <td>...</td>\n",
       "      <td>...</td>\n",
       "      <td>...</td>\n",
       "      <td>...</td>\n",
       "      <td>...</td>\n",
       "      <td>...</td>\n",
       "      <td>...</td>\n",
       "      <td>...</td>\n",
       "      <td>...</td>\n",
       "    </tr>\n",
       "    <tr>\n",
       "      <th>75153</th>\n",
       "      <td>8</td>\n",
       "      <td>39998012</td>\n",
       "      <td>8</td>\n",
       "      <td>7.44</td>\n",
       "      <td>99.0</td>\n",
       "      <td>1.08</td>\n",
       "      <td>26.0</td>\n",
       "      <td>0.600</td>\n",
       "      <td>136.0</td>\n",
       "      <td>3.700</td>\n",
       "      <td>NaN</td>\n",
       "      <td>2</td>\n",
       "      <td>0.000000</td>\n",
       "    </tr>\n",
       "    <tr>\n",
       "      <th>75154</th>\n",
       "      <td>9</td>\n",
       "      <td>39998012</td>\n",
       "      <td>9</td>\n",
       "      <td>7.34</td>\n",
       "      <td>123.0</td>\n",
       "      <td>1.22</td>\n",
       "      <td>24.0</td>\n",
       "      <td>0.600</td>\n",
       "      <td>137.0</td>\n",
       "      <td>3.900</td>\n",
       "      <td>NaN</td>\n",
       "      <td>2</td>\n",
       "      <td>0.000000</td>\n",
       "    </tr>\n",
       "    <tr>\n",
       "      <th>75155</th>\n",
       "      <td>10</td>\n",
       "      <td>39998012</td>\n",
       "      <td>10</td>\n",
       "      <td>7.32</td>\n",
       "      <td>118.0</td>\n",
       "      <td>1.13</td>\n",
       "      <td>22.0</td>\n",
       "      <td>1.100</td>\n",
       "      <td>138.0</td>\n",
       "      <td>4.100</td>\n",
       "      <td>NaN</td>\n",
       "      <td>2</td>\n",
       "      <td>0.000000</td>\n",
       "    </tr>\n",
       "    <tr>\n",
       "      <th>75156</th>\n",
       "      <td>11</td>\n",
       "      <td>39998012</td>\n",
       "      <td>11</td>\n",
       "      <td>7.33</td>\n",
       "      <td>104.0</td>\n",
       "      <td>1.09</td>\n",
       "      <td>21.0</td>\n",
       "      <td>1.100</td>\n",
       "      <td>138.0</td>\n",
       "      <td>4.100</td>\n",
       "      <td>NaN</td>\n",
       "      <td>2</td>\n",
       "      <td>0.000000</td>\n",
       "    </tr>\n",
       "    <tr>\n",
       "      <th>75157</th>\n",
       "      <td>12</td>\n",
       "      <td>39998012</td>\n",
       "      <td>12</td>\n",
       "      <td>7.33</td>\n",
       "      <td>104.0</td>\n",
       "      <td>1.09</td>\n",
       "      <td>21.0</td>\n",
       "      <td>1.100</td>\n",
       "      <td>138.0</td>\n",
       "      <td>4.100</td>\n",
       "      <td>NaN</td>\n",
       "      <td>0</td>\n",
       "      <td>-0.800000</td>\n",
       "    </tr>\n",
       "  </tbody>\n",
       "</table>\n",
       "<p>70143 rows × 13 columns</p>\n",
       "</div>"
      ],
      "text/plain": [
       "       step   stay_id  step.1    ph    po2  calcium  bicarbonate  creatinine  \\\n",
       "4         0  30009597       0  7.35   30.0     0.97         22.0       4.825   \n",
       "5         1  30009597       1  7.35   30.0     0.97         23.0       4.350   \n",
       "6         2  30009597       2  7.35   30.0     0.97         24.0       3.875   \n",
       "7         3  30009597       3  7.35   30.0     0.97         25.0       3.400   \n",
       "8         4  30009597       4  7.35   30.0     0.97         24.5       3.675   \n",
       "...     ...       ...     ...   ...    ...      ...          ...         ...   \n",
       "75153     8  39998012       8  7.44   99.0     1.08         26.0       0.600   \n",
       "75154     9  39998012       9  7.34  123.0     1.22         24.0       0.600   \n",
       "75155    10  39998012      10  7.32  118.0     1.13         22.0       1.100   \n",
       "75156    11  39998012      11  7.33  104.0     1.09         21.0       1.100   \n",
       "75157    12  39998012      12  7.33  104.0     1.09         21.0       1.100   \n",
       "\n",
       "       sodium  potassium  uo_rt_24hr  action    reward  \n",
       "4       138.0      3.975      0.3161       1  0.000000  \n",
       "5       138.0      3.950      0.3161       1  0.630903  \n",
       "6       138.0      3.925      0.3161       0  0.630903  \n",
       "7       138.0      3.900      0.3161       0  0.630903  \n",
       "8       138.0      3.950      0.3161       0 -0.502822  \n",
       "...       ...        ...         ...     ...       ...  \n",
       "75153   136.0      3.700         NaN       2  0.000000  \n",
       "75154   137.0      3.900         NaN       2  0.000000  \n",
       "75155   138.0      4.100         NaN       2  0.000000  \n",
       "75156   138.0      4.100         NaN       2  0.000000  \n",
       "75157   138.0      4.100         NaN       0 -0.800000  \n",
       "\n",
       "[70143 rows x 13 columns]"
      ]
     },
     "execution_count": 25,
     "metadata": {},
     "output_type": "execute_result"
    }
   ],
   "source": [
    "# filtered_df['stay_id'].nunique()\n",
    "filtered_df"
   ]
  },
  {
   "cell_type": "code",
   "execution_count": 35,
   "metadata": {},
   "outputs": [
    {
     "name": "stdout",
     "output_type": "stream",
     "text": [
      "Negative    1856\n",
      "Positive      88\n",
      "Name: eGFR, dtype: int64\n"
     ]
    }
   ],
   "source": [
    "# Category for Treatment Result\n",
    "\n",
    "# 按照stay_id分组\n",
    "grouped = filtered_df.groupby('stay_id')\n",
    "\n",
    "# 找到每个组中step最大的行的索引\n",
    "idx_max_step = grouped['step'].idxmax()\n",
    "\n",
    "# 使用.loc访问这些索引对应的reward\n",
    "max_step_rewards = filtered_df.loc[idx_max_step, 'eGFR']\n",
    "\n",
    "# 判断每个reward的正负\n",
    "trajectory_type = max_step_rewards.apply(lambda x: 'Positive' if x > 90 else 'Negative')\n",
    "\n",
    "# 计算正负轨迹的数量\n",
    "trajectory_counts = trajectory_type.value_counts()\n",
    "\n",
    "# 打印结果\n",
    "print(trajectory_counts)"
   ]
  },
  {
   "cell_type": "code",
   "execution_count": 27,
   "metadata": {},
   "outputs": [
    {
     "name": "stdout",
     "output_type": "stream",
     "text": [
      "Other               1179\n",
      "Contains 1 and 2     521\n",
      "Only 2               244\n",
      "Name: action, dtype: int64\n"
     ]
    }
   ],
   "source": [
    "# Category for Trajectory action Type\n",
    "\n",
    "#按照stay_id分组，查询action列的值仅包含2，包含1和2及其他三种情况，统计组的数量\n",
    "import pandas as pd\n",
    "\n",
    "# 假设 df 是你的原始 DataFrame\n",
    "\n",
    "# 按照 stay_id 分组\n",
    "grouped = filtered_df.groupby('stay_id')\n",
    "\n",
    "# 定义一个函数来分类 action 值的情况\n",
    "def classify_actions(actions):\n",
    "    unique_actions = set(actions)\n",
    "    if unique_actions == {2}:\n",
    "        return 'Only 2'\n",
    "    elif unique_actions >= {1, 2}:\n",
    "        return 'Contains 1 and 2'\n",
    "    else:\n",
    "        return 'Other'\n",
    "\n",
    "# 应用分类函数并统计结果\n",
    "action_categories = grouped['action'].apply(classify_actions)\n",
    "category_counts = action_categories.value_counts()\n",
    "\n",
    "# 打印结果\n",
    "print(category_counts)"
   ]
  },
  {
   "cell_type": "code",
   "execution_count": 28,
   "metadata": {},
   "outputs": [
    {
     "name": "stdout",
     "output_type": "stream",
     "text": [
      "Number of groups with less than 84 rows: 1786\n",
      "Number of groups with 84 or more rows: 158\n"
     ]
    }
   ],
   "source": [
    "# Category for Time Span\n",
    "# 检查每个stay_id组别的行数，统计小于84和大于84的组数\n",
    "group_sizes = filtered_df.groupby('stay_id').size()\n",
    "# 用条件判断来分类组的大小\n",
    "less_than_84 = group_sizes[group_sizes < 84].count()\n",
    "greater_or_equal_84 = group_sizes[group_sizes >= 84].count()\n",
    "\n",
    "# 打印结果\n",
    "print(f\"Number of groups with less than 84 rows: {less_than_84}\")\n",
    "print(f\"Number of groups with 84 or more rows: {greater_or_equal_84}\")"
   ]
  },
  {
   "cell_type": "code",
   "execution_count": null,
   "metadata": {},
   "outputs": [],
   "source": []
  },
  {
   "cell_type": "code",
   "execution_count": 20,
   "metadata": {},
   "outputs": [
    {
     "ename": "KeyError",
     "evalue": "'step'",
     "output_type": "error",
     "traceback": [
      "\u001b[1;31m---------------------------------------------------------------------------\u001b[0m",
      "\u001b[1;31mKeyError\u001b[0m                                  Traceback (most recent call last)",
      "File \u001b[1;32me:\\DRL\\python\\drl\\lib\\site-packages\\pandas\\core\\indexes\\base.py:3080\u001b[0m, in \u001b[0;36mIndex.get_loc\u001b[1;34m(self, key, method, tolerance)\u001b[0m\n\u001b[0;32m   3079\u001b[0m \u001b[38;5;28;01mtry\u001b[39;00m:\n\u001b[1;32m-> 3080\u001b[0m     \u001b[38;5;28;01mreturn\u001b[39;00m \u001b[38;5;28;43mself\u001b[39;49m\u001b[38;5;241;43m.\u001b[39;49m\u001b[43m_engine\u001b[49m\u001b[38;5;241;43m.\u001b[39;49m\u001b[43mget_loc\u001b[49m\u001b[43m(\u001b[49m\u001b[43mcasted_key\u001b[49m\u001b[43m)\u001b[49m\n\u001b[0;32m   3081\u001b[0m \u001b[38;5;28;01mexcept\u001b[39;00m \u001b[38;5;167;01mKeyError\u001b[39;00m \u001b[38;5;28;01mas\u001b[39;00m err:\n",
      "File \u001b[1;32mpandas\\_libs\\index.pyx:70\u001b[0m, in \u001b[0;36mpandas._libs.index.IndexEngine.get_loc\u001b[1;34m()\u001b[0m\n",
      "File \u001b[1;32mpandas\\_libs\\index.pyx:98\u001b[0m, in \u001b[0;36mpandas._libs.index.IndexEngine.get_loc\u001b[1;34m()\u001b[0m\n",
      "File \u001b[1;32mpandas\\_libs\\index_class_helper.pxi:89\u001b[0m, in \u001b[0;36mpandas._libs.index.Int64Engine._check_type\u001b[1;34m()\u001b[0m\n",
      "\u001b[1;31mKeyError\u001b[0m: 'step'",
      "\nThe above exception was the direct cause of the following exception:\n",
      "\u001b[1;31mKeyError\u001b[0m                                  Traceback (most recent call last)",
      "Cell \u001b[1;32mIn[20], line 2\u001b[0m\n\u001b[0;32m      1\u001b[0m \u001b[38;5;66;03m# 使用transform找到每个stay_id分组中step最大时的reward\u001b[39;00m\n\u001b[1;32m----> 2\u001b[0m filtered_df[\u001b[38;5;124m'\u001b[39m\u001b[38;5;124mmax_step_reward\u001b[39m\u001b[38;5;124m'\u001b[39m] \u001b[38;5;241m=\u001b[39m \u001b[43mgrouped\u001b[49m\u001b[43m[\u001b[49m\u001b[38;5;124;43m'\u001b[39;49m\u001b[38;5;124;43mreward\u001b[39;49m\u001b[38;5;124;43m'\u001b[39;49m\u001b[43m]\u001b[49m\u001b[38;5;241;43m.\u001b[39;49m\u001b[43mtransform\u001b[49m\u001b[43m(\u001b[49m\u001b[38;5;28;43;01mlambda\u001b[39;49;00m\u001b[43m \u001b[49m\u001b[43mx\u001b[49m\u001b[43m:\u001b[49m\u001b[43m \u001b[49m\u001b[43mx\u001b[49m\u001b[43m[\u001b[49m\u001b[43mx\u001b[49m\u001b[38;5;241;43m.\u001b[39;49m\u001b[43mindex\u001b[49m\u001b[43m \u001b[49m\u001b[38;5;241;43m==\u001b[39;49m\u001b[43m \u001b[49m\u001b[43mx\u001b[49m\u001b[43m[\u001b[49m\u001b[38;5;124;43m'\u001b[39;49m\u001b[38;5;124;43mstep\u001b[39;49m\u001b[38;5;124;43m'\u001b[39;49m\u001b[43m]\u001b[49m\u001b[38;5;241;43m.\u001b[39;49m\u001b[43midxmax\u001b[49m\u001b[43m(\u001b[49m\u001b[43m)\u001b[49m\u001b[43m]\u001b[49m\u001b[43m)\u001b[49m\n\u001b[0;32m      4\u001b[0m \u001b[38;5;66;03m# 标记正负样本\u001b[39;00m\n\u001b[0;32m      5\u001b[0m filtered_df[\u001b[38;5;124m'\u001b[39m\u001b[38;5;124msample_type\u001b[39m\u001b[38;5;124m'\u001b[39m] \u001b[38;5;241m=\u001b[39m filtered_df[\u001b[38;5;124m'\u001b[39m\u001b[38;5;124mmax_step_reward\u001b[39m\u001b[38;5;124m'\u001b[39m]\u001b[38;5;241m.\u001b[39mapply(\u001b[38;5;28;01mlambda\u001b[39;00m x: \u001b[38;5;124m'\u001b[39m\u001b[38;5;124mPositive\u001b[39m\u001b[38;5;124m'\u001b[39m \u001b[38;5;28;01mif\u001b[39;00m x \u001b[38;5;241m>\u001b[39m \u001b[38;5;241m0\u001b[39m \u001b[38;5;28;01melse\u001b[39;00m \u001b[38;5;124m'\u001b[39m\u001b[38;5;124mNegative\u001b[39m\u001b[38;5;124m'\u001b[39m)\n",
      "File \u001b[1;32me:\\DRL\\python\\drl\\lib\\site-packages\\pandas\\core\\groupby\\generic.py:507\u001b[0m, in \u001b[0;36mSeriesGroupBy.transform\u001b[1;34m(self, func, engine, engine_kwargs, *args, **kwargs)\u001b[0m\n\u001b[0;32m    504\u001b[0m func \u001b[38;5;241m=\u001b[39m \u001b[38;5;28mself\u001b[39m\u001b[38;5;241m.\u001b[39m_get_cython_func(func) \u001b[38;5;129;01mor\u001b[39;00m func\n\u001b[0;32m    506\u001b[0m \u001b[38;5;28;01mif\u001b[39;00m \u001b[38;5;129;01mnot\u001b[39;00m \u001b[38;5;28misinstance\u001b[39m(func, \u001b[38;5;28mstr\u001b[39m):\n\u001b[1;32m--> 507\u001b[0m     \u001b[38;5;28;01mreturn\u001b[39;00m \u001b[38;5;28mself\u001b[39m\u001b[38;5;241m.\u001b[39m_transform_general(func, \u001b[38;5;241m*\u001b[39margs, \u001b[38;5;241m*\u001b[39m\u001b[38;5;241m*\u001b[39mkwargs)\n\u001b[0;32m    509\u001b[0m \u001b[38;5;28;01melif\u001b[39;00m func \u001b[38;5;129;01mnot\u001b[39;00m \u001b[38;5;129;01min\u001b[39;00m base\u001b[38;5;241m.\u001b[39mtransform_kernel_allowlist:\n\u001b[0;32m    510\u001b[0m     msg \u001b[38;5;241m=\u001b[39m \u001b[38;5;124mf\u001b[39m\u001b[38;5;124m\"\u001b[39m\u001b[38;5;124m'\u001b[39m\u001b[38;5;132;01m{\u001b[39;00mfunc\u001b[38;5;132;01m}\u001b[39;00m\u001b[38;5;124m'\u001b[39m\u001b[38;5;124m is not a valid function name for transform(name)\u001b[39m\u001b[38;5;124m\"\u001b[39m\n",
      "File \u001b[1;32me:\\DRL\\python\\drl\\lib\\site-packages\\pandas\\core\\groupby\\generic.py:532\u001b[0m, in \u001b[0;36mSeriesGroupBy._transform_general\u001b[1;34m(self, func, *args, **kwargs)\u001b[0m\n\u001b[0;32m    530\u001b[0m \u001b[38;5;28;01mfor\u001b[39;00m name, group \u001b[38;5;129;01min\u001b[39;00m \u001b[38;5;28mself\u001b[39m:\n\u001b[0;32m    531\u001b[0m     \u001b[38;5;28mobject\u001b[39m\u001b[38;5;241m.\u001b[39m\u001b[38;5;21m__setattr__\u001b[39m(group, \u001b[38;5;124m\"\u001b[39m\u001b[38;5;124mname\u001b[39m\u001b[38;5;124m\"\u001b[39m, name)\n\u001b[1;32m--> 532\u001b[0m     res \u001b[38;5;241m=\u001b[39m func(group, \u001b[38;5;241m*\u001b[39margs, \u001b[38;5;241m*\u001b[39m\u001b[38;5;241m*\u001b[39mkwargs)\n\u001b[0;32m    534\u001b[0m     \u001b[38;5;28;01mif\u001b[39;00m \u001b[38;5;28misinstance\u001b[39m(res, (DataFrame, Series)):\n\u001b[0;32m    535\u001b[0m         res \u001b[38;5;241m=\u001b[39m res\u001b[38;5;241m.\u001b[39m_values\n",
      "Cell \u001b[1;32mIn[20], line 2\u001b[0m, in \u001b[0;36m<lambda>\u001b[1;34m(x)\u001b[0m\n\u001b[0;32m      1\u001b[0m \u001b[38;5;66;03m# 使用transform找到每个stay_id分组中step最大时的reward\u001b[39;00m\n\u001b[1;32m----> 2\u001b[0m filtered_df[\u001b[38;5;124m'\u001b[39m\u001b[38;5;124mmax_step_reward\u001b[39m\u001b[38;5;124m'\u001b[39m] \u001b[38;5;241m=\u001b[39m grouped[\u001b[38;5;124m'\u001b[39m\u001b[38;5;124mreward\u001b[39m\u001b[38;5;124m'\u001b[39m]\u001b[38;5;241m.\u001b[39mtransform(\u001b[38;5;28;01mlambda\u001b[39;00m x: x[x\u001b[38;5;241m.\u001b[39mindex \u001b[38;5;241m==\u001b[39m \u001b[43mx\u001b[49m\u001b[43m[\u001b[49m\u001b[38;5;124;43m'\u001b[39;49m\u001b[38;5;124;43mstep\u001b[39;49m\u001b[38;5;124;43m'\u001b[39;49m\u001b[43m]\u001b[49m\u001b[38;5;241m.\u001b[39midxmax()])\n\u001b[0;32m      4\u001b[0m \u001b[38;5;66;03m# 标记正负样本\u001b[39;00m\n\u001b[0;32m      5\u001b[0m filtered_df[\u001b[38;5;124m'\u001b[39m\u001b[38;5;124msample_type\u001b[39m\u001b[38;5;124m'\u001b[39m] \u001b[38;5;241m=\u001b[39m filtered_df[\u001b[38;5;124m'\u001b[39m\u001b[38;5;124mmax_step_reward\u001b[39m\u001b[38;5;124m'\u001b[39m]\u001b[38;5;241m.\u001b[39mapply(\u001b[38;5;28;01mlambda\u001b[39;00m x: \u001b[38;5;124m'\u001b[39m\u001b[38;5;124mPositive\u001b[39m\u001b[38;5;124m'\u001b[39m \u001b[38;5;28;01mif\u001b[39;00m x \u001b[38;5;241m>\u001b[39m \u001b[38;5;241m0\u001b[39m \u001b[38;5;28;01melse\u001b[39;00m \u001b[38;5;124m'\u001b[39m\u001b[38;5;124mNegative\u001b[39m\u001b[38;5;124m'\u001b[39m)\n",
      "File \u001b[1;32me:\\DRL\\python\\drl\\lib\\site-packages\\pandas\\core\\series.py:853\u001b[0m, in \u001b[0;36mSeries.__getitem__\u001b[1;34m(self, key)\u001b[0m\n\u001b[0;32m    850\u001b[0m     \u001b[38;5;28;01mreturn\u001b[39;00m \u001b[38;5;28mself\u001b[39m\u001b[38;5;241m.\u001b[39m_values[key]\n\u001b[0;32m    852\u001b[0m \u001b[38;5;28;01melif\u001b[39;00m key_is_scalar:\n\u001b[1;32m--> 853\u001b[0m     \u001b[38;5;28;01mreturn\u001b[39;00m \u001b[38;5;28;43mself\u001b[39;49m\u001b[38;5;241;43m.\u001b[39;49m\u001b[43m_get_value\u001b[49m\u001b[43m(\u001b[49m\u001b[43mkey\u001b[49m\u001b[43m)\u001b[49m\n\u001b[0;32m    855\u001b[0m \u001b[38;5;28;01mif\u001b[39;00m is_hashable(key):\n\u001b[0;32m    856\u001b[0m     \u001b[38;5;66;03m# Otherwise index.get_value will raise InvalidIndexError\u001b[39;00m\n\u001b[0;32m    857\u001b[0m     \u001b[38;5;28;01mtry\u001b[39;00m:\n\u001b[0;32m    858\u001b[0m         \u001b[38;5;66;03m# For labels that don't resolve as scalars like tuples and frozensets\u001b[39;00m\n",
      "File \u001b[1;32me:\\DRL\\python\\drl\\lib\\site-packages\\pandas\\core\\series.py:961\u001b[0m, in \u001b[0;36mSeries._get_value\u001b[1;34m(self, label, takeable)\u001b[0m\n\u001b[0;32m    958\u001b[0m     \u001b[38;5;28;01mreturn\u001b[39;00m \u001b[38;5;28mself\u001b[39m\u001b[38;5;241m.\u001b[39m_values[label]\n\u001b[0;32m    960\u001b[0m \u001b[38;5;66;03m# Similar to Index.get_value, but we do not fall back to positional\u001b[39;00m\n\u001b[1;32m--> 961\u001b[0m loc \u001b[38;5;241m=\u001b[39m \u001b[38;5;28;43mself\u001b[39;49m\u001b[38;5;241;43m.\u001b[39;49m\u001b[43mindex\u001b[49m\u001b[38;5;241;43m.\u001b[39;49m\u001b[43mget_loc\u001b[49m\u001b[43m(\u001b[49m\u001b[43mlabel\u001b[49m\u001b[43m)\u001b[49m\n\u001b[0;32m    962\u001b[0m \u001b[38;5;28;01mreturn\u001b[39;00m \u001b[38;5;28mself\u001b[39m\u001b[38;5;241m.\u001b[39mindex\u001b[38;5;241m.\u001b[39m_get_values_for_loc(\u001b[38;5;28mself\u001b[39m, loc, label)\n",
      "File \u001b[1;32me:\\DRL\\python\\drl\\lib\\site-packages\\pandas\\core\\indexes\\base.py:3082\u001b[0m, in \u001b[0;36mIndex.get_loc\u001b[1;34m(self, key, method, tolerance)\u001b[0m\n\u001b[0;32m   3080\u001b[0m         \u001b[38;5;28;01mreturn\u001b[39;00m \u001b[38;5;28mself\u001b[39m\u001b[38;5;241m.\u001b[39m_engine\u001b[38;5;241m.\u001b[39mget_loc(casted_key)\n\u001b[0;32m   3081\u001b[0m     \u001b[38;5;28;01mexcept\u001b[39;00m \u001b[38;5;167;01mKeyError\u001b[39;00m \u001b[38;5;28;01mas\u001b[39;00m err:\n\u001b[1;32m-> 3082\u001b[0m         \u001b[38;5;28;01mraise\u001b[39;00m \u001b[38;5;167;01mKeyError\u001b[39;00m(key) \u001b[38;5;28;01mfrom\u001b[39;00m \u001b[38;5;21;01merr\u001b[39;00m\n\u001b[0;32m   3084\u001b[0m \u001b[38;5;28;01mif\u001b[39;00m tolerance \u001b[38;5;129;01mis\u001b[39;00m \u001b[38;5;129;01mnot\u001b[39;00m \u001b[38;5;28;01mNone\u001b[39;00m:\n\u001b[0;32m   3085\u001b[0m     tolerance \u001b[38;5;241m=\u001b[39m \u001b[38;5;28mself\u001b[39m\u001b[38;5;241m.\u001b[39m_convert_tolerance(tolerance, np\u001b[38;5;241m.\u001b[39masarray(key))\n",
      "\u001b[1;31mKeyError\u001b[0m: 'step'"
     ]
    }
   ],
   "source": [
    "# 使用transform找到每个stay_id分组中step最大时的reward\n",
    "filtered_df['max_step_reward'] = grouped['reward'].transform(lambda x: x[x.index == x['step'].idxmax()])\n",
    "\n",
    "# 标记正负样本\n",
    "filtered_df['sample_type'] = filtered_df['max_step_reward'].apply(lambda x: 'Positive' if x > 0 else 'Negative')"
   ]
  },
  {
   "cell_type": "code",
   "execution_count": null,
   "metadata": {},
   "outputs": [
    {
     "name": "stdout",
     "output_type": "stream",
     "text": [
      "stay_id\n",
      "30009597     22\n",
      "30031755     11\n",
      "30045407     14\n",
      "30045625     53\n",
      "30056217     31\n",
      "           ... \n",
      "39972385     21\n",
      "39977408     12\n",
      "39985110     22\n",
      "39986206    114\n",
      "39998012     13\n",
      "Length: 1944, dtype: int64\n"
     ]
    }
   ],
   "source": [
    "# 统计每个stay_id的行数\n",
    "sample_distribution = filtered_df.groupby('stay_id').size()\n",
    "print(sample_distribution)"
   ]
  },
  {
   "cell_type": "code",
   "execution_count": null,
   "metadata": {},
   "outputs": [
    {
     "ename": "KeyError",
     "evalue": "'col'",
     "output_type": "error",
     "traceback": [
      "\u001b[1;31m---------------------------------------------------------------------------\u001b[0m",
      "\u001b[1;31mKeyError\u001b[0m                                  Traceback (most recent call last)",
      "File \u001b[1;32me:\\DRL\\python\\drl\\lib\\site-packages\\pandas\\core\\indexes\\base.py:3080\u001b[0m, in \u001b[0;36mIndex.get_loc\u001b[1;34m(self, key, method, tolerance)\u001b[0m\n\u001b[0;32m   3079\u001b[0m \u001b[38;5;28;01mtry\u001b[39;00m:\n\u001b[1;32m-> 3080\u001b[0m     \u001b[38;5;28;01mreturn\u001b[39;00m \u001b[38;5;28;43mself\u001b[39;49m\u001b[38;5;241;43m.\u001b[39;49m\u001b[43m_engine\u001b[49m\u001b[38;5;241;43m.\u001b[39;49m\u001b[43mget_loc\u001b[49m\u001b[43m(\u001b[49m\u001b[43mcasted_key\u001b[49m\u001b[43m)\u001b[49m\n\u001b[0;32m   3081\u001b[0m \u001b[38;5;28;01mexcept\u001b[39;00m \u001b[38;5;167;01mKeyError\u001b[39;00m \u001b[38;5;28;01mas\u001b[39;00m err:\n",
      "File \u001b[1;32mpandas\\_libs\\index.pyx:70\u001b[0m, in \u001b[0;36mpandas._libs.index.IndexEngine.get_loc\u001b[1;34m()\u001b[0m\n",
      "File \u001b[1;32mpandas\\_libs\\index.pyx:101\u001b[0m, in \u001b[0;36mpandas._libs.index.IndexEngine.get_loc\u001b[1;34m()\u001b[0m\n",
      "File \u001b[1;32mpandas\\_libs\\hashtable_class_helper.pxi:4554\u001b[0m, in \u001b[0;36mpandas._libs.hashtable.PyObjectHashTable.get_item\u001b[1;34m()\u001b[0m\n",
      "File \u001b[1;32mpandas\\_libs\\hashtable_class_helper.pxi:4562\u001b[0m, in \u001b[0;36mpandas._libs.hashtable.PyObjectHashTable.get_item\u001b[1;34m()\u001b[0m\n",
      "\u001b[1;31mKeyError\u001b[0m: 'col'",
      "\nThe above exception was the direct cause of the following exception:\n",
      "\u001b[1;31mKeyError\u001b[0m                                  Traceback (most recent call last)",
      "Cell \u001b[1;32mIn[15], line 2\u001b[0m\n\u001b[0;32m      1\u001b[0m \u001b[38;5;66;03m# 对col列进行描述性统计\u001b[39;00m\n\u001b[1;32m----> 2\u001b[0m col_stats \u001b[38;5;241m=\u001b[39m \u001b[43mfiltered_df\u001b[49m\u001b[43m[\u001b[49m\u001b[38;5;124;43m'\u001b[39;49m\u001b[38;5;124;43mcol\u001b[39;49m\u001b[38;5;124;43m'\u001b[39;49m\u001b[43m]\u001b[49m\u001b[38;5;241m.\u001b[39mdescribe()\n\u001b[0;32m      3\u001b[0m \u001b[38;5;28mprint\u001b[39m(col_stats)\n",
      "File \u001b[1;32me:\\DRL\\python\\drl\\lib\\site-packages\\pandas\\core\\frame.py:3024\u001b[0m, in \u001b[0;36mDataFrame.__getitem__\u001b[1;34m(self, key)\u001b[0m\n\u001b[0;32m   3022\u001b[0m \u001b[38;5;28;01mif\u001b[39;00m \u001b[38;5;28mself\u001b[39m\u001b[38;5;241m.\u001b[39mcolumns\u001b[38;5;241m.\u001b[39mnlevels \u001b[38;5;241m>\u001b[39m \u001b[38;5;241m1\u001b[39m:\n\u001b[0;32m   3023\u001b[0m     \u001b[38;5;28;01mreturn\u001b[39;00m \u001b[38;5;28mself\u001b[39m\u001b[38;5;241m.\u001b[39m_getitem_multilevel(key)\n\u001b[1;32m-> 3024\u001b[0m indexer \u001b[38;5;241m=\u001b[39m \u001b[38;5;28;43mself\u001b[39;49m\u001b[38;5;241;43m.\u001b[39;49m\u001b[43mcolumns\u001b[49m\u001b[38;5;241;43m.\u001b[39;49m\u001b[43mget_loc\u001b[49m\u001b[43m(\u001b[49m\u001b[43mkey\u001b[49m\u001b[43m)\u001b[49m\n\u001b[0;32m   3025\u001b[0m \u001b[38;5;28;01mif\u001b[39;00m is_integer(indexer):\n\u001b[0;32m   3026\u001b[0m     indexer \u001b[38;5;241m=\u001b[39m [indexer]\n",
      "File \u001b[1;32me:\\DRL\\python\\drl\\lib\\site-packages\\pandas\\core\\indexes\\base.py:3082\u001b[0m, in \u001b[0;36mIndex.get_loc\u001b[1;34m(self, key, method, tolerance)\u001b[0m\n\u001b[0;32m   3080\u001b[0m         \u001b[38;5;28;01mreturn\u001b[39;00m \u001b[38;5;28mself\u001b[39m\u001b[38;5;241m.\u001b[39m_engine\u001b[38;5;241m.\u001b[39mget_loc(casted_key)\n\u001b[0;32m   3081\u001b[0m     \u001b[38;5;28;01mexcept\u001b[39;00m \u001b[38;5;167;01mKeyError\u001b[39;00m \u001b[38;5;28;01mas\u001b[39;00m err:\n\u001b[1;32m-> 3082\u001b[0m         \u001b[38;5;28;01mraise\u001b[39;00m \u001b[38;5;167;01mKeyError\u001b[39;00m(key) \u001b[38;5;28;01mfrom\u001b[39;00m \u001b[38;5;21;01merr\u001b[39;00m\n\u001b[0;32m   3084\u001b[0m \u001b[38;5;28;01mif\u001b[39;00m tolerance \u001b[38;5;129;01mis\u001b[39;00m \u001b[38;5;129;01mnot\u001b[39;00m \u001b[38;5;28;01mNone\u001b[39;00m:\n\u001b[0;32m   3085\u001b[0m     tolerance \u001b[38;5;241m=\u001b[39m \u001b[38;5;28mself\u001b[39m\u001b[38;5;241m.\u001b[39m_convert_tolerance(tolerance, np\u001b[38;5;241m.\u001b[39masarray(key))\n",
      "\u001b[1;31mKeyError\u001b[0m: 'col'"
     ]
    }
   ],
   "source": [
    "# 对col列进行描述性统计\n",
    "col_stats = filtered_df['col'].describe()\n",
    "print(col_stats)"
   ]
  },
  {
   "cell_type": "code",
   "execution_count": null,
   "metadata": {},
   "outputs": [],
   "source": [
    "# 计算缺失率\n",
    "missing_rate = filtered_df['col'].isnull().mean()\n",
    "print(f\"Missing rate of 'col': {missing_rate * 100:.2f}%\")"
   ]
  },
  {
   "cell_type": "code",
   "execution_count": null,
   "metadata": {},
   "outputs": [],
   "source": [
    "# 筛选含有三个unique action值的样本\n",
    "samples_with_three_unique_actions = filtered_df.groupby('stay_id').filter(lambda x: x['action'].nunique() == 3)"
   ]
  },
  {
   "cell_type": "code",
   "execution_count": null,
   "metadata": {},
   "outputs": [],
   "source": [
    "# 对col列进行描述性统计\n",
    "col_stats_post_action_filter = samples_with_three_unique_actions['col'].describe()\n",
    "print(col_stats_post_action_filter)"
   ]
  },
  {
   "cell_type": "code",
   "execution_count": null,
   "metadata": {},
   "outputs": [],
   "source": [
    "# 计算缺失率\n",
    "missing_rate_post_action_filter = samples_with_three_unique_actions['col'].isnull().mean()\n",
    "print(f\"Missing rate of 'col' after action filter: {missing_rate_post_action_filter * 100:.2f}%\")"
   ]
  }
 ],
 "metadata": {
  "kernelspec": {
   "display_name": "drl",
   "language": "python",
   "name": "python3"
  },
  "language_info": {
   "codemirror_mode": {
    "name": "ipython",
    "version": 3
   },
   "file_extension": ".py",
   "mimetype": "text/x-python",
   "name": "python",
   "nbconvert_exporter": "python",
   "pygments_lexer": "ipython3",
   "version": "3.9.13"
  }
 },
 "nbformat": 4,
 "nbformat_minor": 2
}
