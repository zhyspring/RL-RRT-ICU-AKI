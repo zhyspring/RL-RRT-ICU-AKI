{
 "cells": [
  {
   "cell_type": "code",
   "execution_count": 148,
   "metadata": {},
   "outputs": [
    {
     "data": {
      "text/plain": [
       "'\\n在获得粗略数据后，构建可以被模型读取的数据\\n'"
      ]
     },
     "execution_count": 148,
     "metadata": {},
     "output_type": "execute_result"
    }
   ],
   "source": [
    "'''\n",
    "在获得粗略数据后，构建可以被模型读取的数据\n",
    "'''\n",
    "# 截取的时段为患者开始接收RRT到结束的时段\n",
    "# 计算每个时刻及撤机7d内的reward\n",
    "# 动作要量化为IHD、CRRT、No的片段\n",
    "# 状态进行高斯补全\n",
    "# 考虑到动作可能重叠的情况，则IHD为优先级"
   ]
  },
  {
   "cell_type": "code",
   "execution_count": 149,
   "metadata": {},
   "outputs": [],
   "source": [
    "TIMEDURING = 6\n",
    "CON_WINDOWS = 7 * 24 // TIMEDURING\n",
    "\n",
    "# 参数\n",
    "C_1 = 0.3\n",
    "C_2 = 0.8\n",
    "C_3 = -0.1\n",
    "C4 = 0.8\n",
    "C5 = 0.2\n",
    "k = -0.1\n",
    "\n",
    "\n",
    "import pandas as pd\n",
    "import numpy as np\n",
    "import os\n",
    "from tqdm import tqdm\n",
    "from sklearn.gaussian_process import GaussianProcessRegressor\n",
    "from sklearn.gaussian_process.kernels import RBF, WhiteKernel\n"
   ]
  },
  {
   "cell_type": "code",
   "execution_count": 150,
   "metadata": {},
   "outputs": [],
   "source": [
    "\n",
    "# file_demo = pd.read_csv('./data/temp/30166100.csv')\n",
    "\n",
    "# df = file_demo\n",
    "ID_col = ['stay_id', 'step']\n",
    "state_col =    ['ph',\n",
    " 'po2',\n",
    " 'calcium',\n",
    " 'bicarbonate',\n",
    " 'creatinine',\n",
    " 'sodium',\n",
    " 'potassium',\n",
    " 'uo_rt_24hr']\n",
    "col_list = ['eGFR'] + state_col\n",
    "\n"
   ]
  },
  {
   "cell_type": "code",
   "execution_count": 158,
   "metadata": {},
   "outputs": [
    {
     "name": "stderr",
     "output_type": "stream",
     "text": [
      "  0%|          | 0/3453 [00:00<?, ?it/s]"
     ]
    },
    {
     "name": "stderr",
     "output_type": "stream",
     "text": [
      "  1%|          | 18/3453 [00:00<00:39, 85.96it/s]"
     ]
    },
    {
     "name": "stdout",
     "output_type": "stream",
     "text": [
      "30034929.csv have no rrt record\n"
     ]
    },
    {
     "name": "stderr",
     "output_type": "stream",
     "text": [
      "  3%|▎         | 88/3453 [00:00<00:37, 89.28it/s]"
     ]
    },
    {
     "name": "stdout",
     "output_type": "stream",
     "text": [
      "30215388.csv have no rrt record\n"
     ]
    },
    {
     "name": "stderr",
     "output_type": "stream",
     "text": [
      "  4%|▎         | 127/3453 [00:01<00:36, 90.35it/s]"
     ]
    },
    {
     "name": "stdout",
     "output_type": "stream",
     "text": [
      "30340367.csv have no rrt record\n"
     ]
    },
    {
     "name": "stderr",
     "output_type": "stream",
     "text": [
      "  9%|▊         | 296/3453 [00:03<00:36, 85.85it/s]"
     ]
    },
    {
     "name": "stdout",
     "output_type": "stream",
     "text": [
      "30799244.csv have no rrt record\n"
     ]
    },
    {
     "name": "stderr",
     "output_type": "stream",
     "text": [
      "  9%|▉         | 323/3453 [00:03<00:36, 85.62it/s]"
     ]
    },
    {
     "name": "stdout",
     "output_type": "stream",
     "text": [
      "30896903.csv have no rrt record\n"
     ]
    },
    {
     "name": "stderr",
     "output_type": "stream",
     "text": [
      " 12%|█▏        | 422/3453 [00:04<00:38, 77.87it/s]"
     ]
    },
    {
     "name": "stdout",
     "output_type": "stream",
     "text": [
      "31222340.csv have no rrt record\n"
     ]
    },
    {
     "name": "stderr",
     "output_type": "stream",
     "text": [
      " 13%|█▎        | 464/3453 [00:05<00:36, 81.60it/s]"
     ]
    },
    {
     "name": "stdout",
     "output_type": "stream",
     "text": [
      "31361483.csv have no rrt record\n"
     ]
    },
    {
     "name": "stderr",
     "output_type": "stream",
     "text": [
      " 15%|█▌        | 525/3453 [00:06<00:35, 82.38it/s]"
     ]
    },
    {
     "name": "stdout",
     "output_type": "stream",
     "text": [
      "31524467.csv have no rrt record\n",
      "31528992.csv have no rrt record\n"
     ]
    },
    {
     "name": "stderr",
     "output_type": "stream",
     "text": [
      " 17%|█▋        | 599/3453 [00:07<00:37, 77.13it/s]"
     ]
    },
    {
     "name": "stdout",
     "output_type": "stream",
     "text": [
      "31720814.csv have no rrt record\n"
     ]
    },
    {
     "name": "stderr",
     "output_type": "stream",
     "text": [
      " 21%|██        | 727/3453 [00:08<00:37, 72.99it/s]"
     ]
    },
    {
     "name": "stdout",
     "output_type": "stream",
     "text": [
      "32136845.csv have no rrt record\n"
     ]
    },
    {
     "name": "stderr",
     "output_type": "stream",
     "text": [
      " 23%|██▎       | 807/3453 [00:10<00:36, 71.80it/s]"
     ]
    },
    {
     "name": "stdout",
     "output_type": "stream",
     "text": [
      "32348707.csv have no rrt record\n"
     ]
    },
    {
     "name": "stderr",
     "output_type": "stream",
     "text": [
      " 26%|██▌       | 904/3453 [00:11<00:35, 70.86it/s]"
     ]
    },
    {
     "name": "stdout",
     "output_type": "stream",
     "text": [
      "32625996.csv have no rrt record\n"
     ]
    },
    {
     "name": "stderr",
     "output_type": "stream",
     "text": [
      " 29%|██▉       | 1011/3453 [00:13<00:37, 64.72it/s]"
     ]
    },
    {
     "name": "stdout",
     "output_type": "stream",
     "text": [
      "32875170.csv have no rrt record\n"
     ]
    },
    {
     "name": "stderr",
     "output_type": "stream",
     "text": [
      " 32%|███▏      | 1110/3453 [00:14<00:35, 65.55it/s]"
     ]
    },
    {
     "name": "stdout",
     "output_type": "stream",
     "text": [
      "33129284.csv have no rrt record\n"
     ]
    },
    {
     "name": "stderr",
     "output_type": "stream",
     "text": [
      " 36%|███▌      | 1251/3453 [00:17<00:36, 60.09it/s]"
     ]
    },
    {
     "name": "stdout",
     "output_type": "stream",
     "text": [
      "33505376.csv have no rrt record\n"
     ]
    },
    {
     "name": "stderr",
     "output_type": "stream",
     "text": [
      " 38%|███▊      | 1303/3453 [00:17<00:36, 58.91it/s]"
     ]
    },
    {
     "name": "stdout",
     "output_type": "stream",
     "text": [
      "33600218.csv have no rrt record\n"
     ]
    },
    {
     "name": "stderr",
     "output_type": "stream",
     "text": [
      " 40%|███▉      | 1372/3453 [00:19<00:34, 60.84it/s]"
     ]
    },
    {
     "name": "stdout",
     "output_type": "stream",
     "text": [
      "33786587.csv have no rrt record\n"
     ]
    },
    {
     "name": "stderr",
     "output_type": "stream",
     "text": [
      " 45%|████▍     | 1547/3453 [00:22<00:32, 58.35it/s]"
     ]
    },
    {
     "name": "stdout",
     "output_type": "stream",
     "text": [
      "34318564.csv have no rrt record\n"
     ]
    },
    {
     "name": "stderr",
     "output_type": "stream",
     "text": [
      " 46%|████▋     | 1602/3453 [00:23<00:33, 55.75it/s]"
     ]
    },
    {
     "name": "stdout",
     "output_type": "stream",
     "text": [
      "34506990.csv have no rrt record\n"
     ]
    },
    {
     "name": "stderr",
     "output_type": "stream",
     "text": [
      " 49%|████▉     | 1699/3453 [00:25<00:32, 54.59it/s]"
     ]
    },
    {
     "name": "stdout",
     "output_type": "stream",
     "text": [
      "34767909.csv have no rrt record\n"
     ]
    },
    {
     "name": "stderr",
     "output_type": "stream",
     "text": [
      " 54%|█████▍    | 1871/3453 [00:28<00:30, 51.66it/s]"
     ]
    },
    {
     "name": "stdout",
     "output_type": "stream",
     "text": [
      "35274229.csv have no rrt record\n"
     ]
    },
    {
     "name": "stderr",
     "output_type": "stream",
     "text": [
      " 56%|█████▌    | 1938/3453 [00:29<00:28, 53.17it/s]"
     ]
    },
    {
     "name": "stdout",
     "output_type": "stream",
     "text": [
      "35463762.csv have no rrt record\n"
     ]
    },
    {
     "name": "stderr",
     "output_type": "stream",
     "text": [
      " 58%|█████▊    | 1992/3453 [00:30<00:27, 54.00it/s]"
     ]
    },
    {
     "name": "stdout",
     "output_type": "stream",
     "text": [
      "35635578.csv have no rrt record\n",
      "35654664.csv have no rrt record\n"
     ]
    },
    {
     "name": "stderr",
     "output_type": "stream",
     "text": [
      " 58%|█████▊    | 2010/3453 [00:31<00:27, 53.00it/s]"
     ]
    },
    {
     "name": "stdout",
     "output_type": "stream",
     "text": [
      "35675484.csv have no rrt record\n"
     ]
    },
    {
     "name": "stderr",
     "output_type": "stream",
     "text": [
      " 64%|██████▍   | 2210/3453 [00:35<00:27, 45.92it/s]"
     ]
    },
    {
     "name": "stdout",
     "output_type": "stream",
     "text": [
      "36250287.csv have no rrt record\n"
     ]
    },
    {
     "name": "stderr",
     "output_type": "stream",
     "text": [
      " 74%|███████▍  | 2561/3453 [00:43<00:20, 43.17it/s]"
     ]
    },
    {
     "name": "stdout",
     "output_type": "stream",
     "text": [
      "37272868.csv have no rrt record\n"
     ]
    },
    {
     "name": "stderr",
     "output_type": "stream",
     "text": [
      " 82%|████████▏ | 2846/3453 [00:50<00:14, 41.64it/s]"
     ]
    },
    {
     "name": "stdout",
     "output_type": "stream",
     "text": [
      "38114702.csv have no rrt record\n"
     ]
    },
    {
     "name": "stderr",
     "output_type": "stream",
     "text": [
      " 84%|████████▎ | 2885/3453 [00:51<00:13, 41.47it/s]"
     ]
    },
    {
     "name": "stdout",
     "output_type": "stream",
     "text": [
      "38236658.csv have no rrt record\n"
     ]
    },
    {
     "name": "stderr",
     "output_type": "stream",
     "text": [
      " 88%|████████▊ | 3036/3453 [00:54<00:10, 40.82it/s]"
     ]
    },
    {
     "name": "stdout",
     "output_type": "stream",
     "text": [
      "38680413.csv have no rrt record\n"
     ]
    },
    {
     "name": "stderr",
     "output_type": "stream",
     "text": [
      " 89%|████████▉ | 3071/3453 [00:55<00:09, 40.13it/s]"
     ]
    },
    {
     "name": "stdout",
     "output_type": "stream",
     "text": [
      "38817538.csv have no rrt record\n"
     ]
    },
    {
     "name": "stderr",
     "output_type": "stream",
     "text": [
      " 91%|█████████ | 3133/3453 [00:57<00:08, 39.59it/s]"
     ]
    },
    {
     "name": "stdout",
     "output_type": "stream",
     "text": [
      "38971017.csv have no rrt record\n"
     ]
    },
    {
     "name": "stderr",
     "output_type": "stream",
     "text": [
      " 91%|█████████▏| 3158/3453 [00:58<00:07, 39.66it/s]"
     ]
    },
    {
     "name": "stdout",
     "output_type": "stream",
     "text": [
      "39045520.csv have no rrt record\n"
     ]
    },
    {
     "name": "stderr",
     "output_type": "stream",
     "text": [
      " 92%|█████████▏| 3183/3453 [00:58<00:06, 40.19it/s]"
     ]
    },
    {
     "name": "stdout",
     "output_type": "stream",
     "text": [
      "39104319.csv have no rrt record\n"
     ]
    },
    {
     "name": "stderr",
     "output_type": "stream",
     "text": [
      " 93%|█████████▎| 3202/3453 [00:59<00:06, 39.29it/s]"
     ]
    },
    {
     "name": "stdout",
     "output_type": "stream",
     "text": [
      "39149172.csv have no rrt record\n"
     ]
    },
    {
     "name": "stderr",
     "output_type": "stream",
     "text": [
      " 93%|█████████▎| 3215/3453 [00:59<00:06, 38.73it/s]"
     ]
    },
    {
     "name": "stdout",
     "output_type": "stream",
     "text": [
      "39190025.csv have no rrt record\n"
     ]
    },
    {
     "name": "stderr",
     "output_type": "stream",
     "text": [
      " 93%|█████████▎| 3223/3453 [00:59<00:06, 38.32it/s]"
     ]
    },
    {
     "name": "stdout",
     "output_type": "stream",
     "text": [
      "39210893.csv have no rrt record\n"
     ]
    },
    {
     "name": "stderr",
     "output_type": "stream",
     "text": [
      " 96%|█████████▌| 3320/3453 [01:02<00:03, 38.02it/s]"
     ]
    },
    {
     "name": "stdout",
     "output_type": "stream",
     "text": [
      "39554910.csv have no rrt record\n",
      "39568034.csv have no rrt record\n"
     ]
    },
    {
     "name": "stderr",
     "output_type": "stream",
     "text": [
      "100%|██████████| 3453/3453 [01:06<00:00, 52.13it/s]\n"
     ]
    }
   ],
   "source": [
    "# 首先利用高斯处理过程处理各个state、action值\n",
    "# 选择用于高斯过程的特征（这里使用时间的浮点数表示）\n",
    "df_merge = pd.DataFrame()\n",
    "file_pool = os.listdir('./data/temp/')\n",
    "for file in tqdm(file_pool):\n",
    "    df = pd.read_csv('./data/temp/' + file)\n",
    "\n",
    "    df['start_time'] = pd.to_datetime(df['start_time'])\n",
    "    df['end_time'] = pd.to_datetime(df['end_time'])\n",
    "    # 按照 start_time 升序排序\n",
    "    df.sort_values('start_time', inplace=True)\n",
    "    # 重置索引，并创建新的 step 列作为排序后的序号\n",
    "    df.reset_index(drop=True, inplace=True)\n",
    "    df['step'] = df.index  # index 是自动从0开始的整数序列\n",
    "    \n",
    "    \n",
    "    #使用均匀分布的形式进行拟合\n",
    "    # 设置step为索引\n",
    "    df.set_index('step', inplace=True)\n",
    "    # 对每列进行线性插值\n",
    "    df['eGFR'] = df['avg_eGFR']\n",
    "    df_process = df[col_list]\n",
    "    df_process = df_process.interpolate(method='linear')\n",
    "\n",
    "    # 填充插值后仍存在的缺失值\n",
    "    df_process.fillna(method='ffill', inplace=True)  # 先前无存在值，使用最近的存在值\n",
    "    df_process.fillna(method='bfill', inplace=True)  # 之后无存在值，也使用最近的存在值\n",
    "\n",
    "    df[col_list] = df_process\n",
    "\n",
    "\n",
    "    # 对数据的长度进行裁切\n",
    "    # 寻找第一个和最后一个IHD、CRRT记录点\n",
    "    # 计算每列的第一个和最后一个有效索引\n",
    "    first_index_ihd = df['ihd'].first_valid_index()\n",
    "    first_index_crrt = df['crrt'].first_valid_index()\n",
    "    last_index_ihd = df['ihd'].last_valid_index()\n",
    "    last_index_crrt = df['crrt'].last_valid_index()\n",
    "\n",
    "    # 使用min和max来确定第一个和最后一个有效索引，处理None的情况\n",
    "    first_index = min(first_index_ihd if first_index_ihd is not None else float('inf'),\n",
    "                    first_index_crrt if first_index_crrt is not None else float('inf'))\n",
    "\n",
    "    last_index = max(last_index_ihd if last_index_ihd is not None else float('-inf'),\n",
    "                    last_index_crrt if last_index_crrt is not None else float('-inf'))\n",
    "    # 需要检查是否有无效的索引值（如果两个列都是None）\n",
    "    first_index = None if first_index == float('inf') else first_index\n",
    "    last_index = None if last_index == float('-inf') else last_index\n",
    "\n",
    "    if (first_index is None) or (last_index is None):\n",
    "        print(f'{file} have no rrt record')\n",
    "        continue\n",
    "    # print(f\"first non-null value at step: {first_index}\")\n",
    "    # print(f\"last non-null value at step: {last_index}\")\n",
    "    # 计算eGFR的末期值\n",
    "    max_index = min(last_index + CON_WINDOWS, df.index.max())\n",
    "    # 使用loc来安全地获取范围内的数据并计算最小值\n",
    "    min_value = df.loc[last_index:max_index, 'eGFR'].min()\n",
    "\n",
    "    df = df.loc[first_index:last_index+1]\n",
    "    df.reset_index(drop=True, inplace=True)\n",
    "    df['step'] = df.index  # index 是自动从0开始的整数序列\n",
    "\n",
    "    # 对动作进行处理\n",
    "    df['action'] = np.where(pd.notna(df['crrt']), 2, \n",
    "                            np.where(pd.notna(df['ihd']), 1, 0)) #若crrt非空则2，若IHD非空则1，否则0\n",
    "\n",
    "    # 计算sgn(eGFR >= 90)\n",
    "    df['sgn_eGFR'] = (df['eGFR'] >= 90).astype(int)\n",
    "\n",
    "    # 计算ΔeGFR\n",
    "    df['delta_eGFR'] = df['eGFR'].diff().fillna(0)  # 填充第一个值为0或其他适当方法\n",
    "\n",
    "    # 计算第二项中的表达式\n",
    "    df['exp_part_2'] = 2 / (1 + np.exp(-df['delta_eGFR'])) - 1\n",
    "\n",
    "    # 计算第三项中的表达式\n",
    "    df['exp_part_3'] = 1 - np.exp(k * np.maximum(0, df['step'] - 14 * 24 / TIMEDURING))\n",
    "\n",
    "    # 计算最终reward\n",
    "    df['reward'] = C_1 * df['sgn_eGFR'] + C_2 * df['exp_part_2'] + C_3 * df['exp_part_3']\n",
    "\n",
    "\n",
    "\n",
    "    # 对于终末期的reward进行计算\n",
    "    df.loc[df.index[-1], 'reward'] = C4 *  (1 if min_value > 90 else -1) + C5 * df.loc[df.index[-1], 'delta_eGFR']# 参数\n",
    "    # df_merge = pd.concat([df_merge, df[ID_col+state_col+['action', 'reward']]])\n",
    "    df_merge = pd.concat([df_merge, df])\n",
    "df_merge.to_csv('./data/res.csv')\n",
    "\n",
    "\n",
    "# # 将 starttime 和 endtime 转换为浮点数（UNIX 时间戳形式），然后计算平均值\n",
    "# # df['time_float'] = (df['start_time'].astype('int64') + df['end_time'].astype('int64')) / 2 / 10**9\n",
    "# df['eGFR'] = df['avg_eGFR']\n",
    "# col = 'eGFR'\n",
    "# # 分离出已知和未知的数据点\n",
    "# known_data = df.dropna(subset=[col])\n",
    "# unknown_data = df[df[col].isna()]\n",
    "\n",
    "# # 定义高斯过程回归模型\n",
    "# kernel = 1.0 * RBF(length_scale=10.0) + WhiteKernel(noise_level=0.1)\n",
    "# gp = GaussianProcessRegressor(kernel=kernel, optimizer='fmin_l_bfgs_b', n_restarts_optimizer=10)\n",
    "\n",
    "# # 训练高斯过程回归器\n",
    "# gp.fit(known_data[['step']], known_data[col])\n",
    "\n",
    "# # 使用模型对未知数据进行预测\n",
    "# x_pred, sigma = gp.predict(unknown_data[['step']], return_std=True)\n",
    "\n",
    "# df.loc[df[col].isna(), 'eGFR'] = x_pred\n",
    "# # eGFR要保留原值\n"
   ]
  },
  {
   "cell_type": "code",
   "execution_count": 157,
   "metadata": {},
   "outputs": [],
   "source": [
    "df_merge.to_csv('./data/res.csv')"
   ]
  },
  {
   "cell_type": "code",
   "execution_count": 152,
   "metadata": {},
   "outputs": [],
   "source": [
    "# 对数据的长度进行裁切\n",
    "# 寻找第一个和最后一个IHD、CRRT记录点\n",
    "\n",
    "# first_index = min(df['ihd'].first_valid_index(), df['crrt'].first_valid_index())\n",
    "# last_index = max(df['ihd'].last_valid_index(), df['crrt'].last_valid_index())\n",
    "# print(f\"first non-null value at step: {first_index}\")\n",
    "# print(f\"last non-null value at step: {last_index}\")\n",
    "# # 计算eGFR的末期值\n",
    "# max_index = min(last_index + CON_WINDOWS, df.index.max())\n",
    "# # 使用loc来安全地获取范围内的数据并计算最小值\n",
    "# min_value = df.loc[last_index:max_index, 'eGFR'].min()\n",
    "\n",
    "# df = df.loc[first_index:last_index+1]\n",
    "# df.reset_index(drop=True, inplace=True)\n",
    "# df['step'] = df.index  # index 是自动从0开始的整数序列"
   ]
  },
  {
   "cell_type": "code",
   "execution_count": 153,
   "metadata": {},
   "outputs": [],
   "source": [
    "# # 对动作进行处理\n",
    "# df['action'] = np.where(pd.notna(df['crrt']), 2, \n",
    "#                         np.where(pd.notna(df['ihd']), 1, 0)) #若crrt非空则2，若IHD非空则1，否则0\n"
   ]
  },
  {
   "cell_type": "code",
   "execution_count": 154,
   "metadata": {},
   "outputs": [],
   "source": [
    "# # 参数\n",
    "# C_1 = 0.3\n",
    "# C_2 = 0.8\n",
    "# C_3 = -0.1\n",
    "# C4 = 0.8\n",
    "# C5 = 0.2\n",
    "# k = -0.1\n",
    "\n",
    "# # 计算sgn(eGFR >= 90)\n",
    "# df['sgn_eGFR'] = (df['eGFR'] >= 90).astype(int)\n",
    "\n",
    "# # 计算ΔeGFR\n",
    "# df['delta_eGFR'] = df['eGFR'].diff().fillna(0)  # 填充第一个值为0或其他适当方法\n",
    "\n",
    "# # 计算第二项中的表达式\n",
    "# df['exp_part_2'] = 2 / (1 + np.exp(-df['delta_eGFR'])) - 1\n",
    "\n",
    "# # 计算第三项中的表达式\n",
    "# df['exp_part_3'] = 1 - np.exp(k * np.maximum(0, df['step'] - 14 * 24 / TIMEDURING))\n",
    "\n",
    "# # 计算最终reward\n",
    "# df['reward'] = C_1 * df['sgn_eGFR'] + C_2 * df['exp_part_2'] + C_3 * df['exp_part_3']\n",
    "\n",
    "\n"
   ]
  },
  {
   "cell_type": "code",
   "execution_count": 155,
   "metadata": {},
   "outputs": [],
   "source": [
    "\n",
    "\n",
    "# 对于终末期的reward进行计算\n",
    "df.loc[df.index[-1], 'reward'] = C4 *  (1 if min_value > 90 else -1) + C5 * df.loc[df.index[-1], 'delta_eGFR']# 参数\n",
    "df[ID_col+state_col+['action', 'reward']].to_csv('./data/res.csv')\n"
   ]
  }
 ],
 "metadata": {
  "kernelspec": {
   "display_name": "drl",
   "language": "python",
   "name": "python3"
  },
  "language_info": {
   "codemirror_mode": {
    "name": "ipython",
    "version": 3
   },
   "file_extension": ".py",
   "mimetype": "text/x-python",
   "name": "python",
   "nbconvert_exporter": "python",
   "pygments_lexer": "ipython3",
   "version": "3.9.13"
  }
 },
 "nbformat": 4,
 "nbformat_minor": 2
}
